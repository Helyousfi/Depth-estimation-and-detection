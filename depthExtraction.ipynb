{
  "nbformat": 4,
  "nbformat_minor": 0,
  "metadata": {
    "colab": {
      "name": "depthExtraction.ipynb",
      "provenance": [],
      "collapsed_sections": [],
      "include_colab_link": true
    },
    "kernelspec": {
      "name": "python3",
      "display_name": "Python 3"
    },
    "widgets": {
      "application/vnd.jupyter.widget-state+json": {
        "9a4ee31a09e24e5bb3a0976be0981fb7": {
          "model_module": "@jupyter-widgets/controls",
          "model_name": "HBoxModel",
          "model_module_version": "1.5.0",
          "state": {
            "_view_name": "HBoxView",
            "_dom_classes": [],
            "_model_name": "HBoxModel",
            "_view_module": "@jupyter-widgets/controls",
            "_model_module_version": "1.5.0",
            "_view_count": null,
            "_view_module_version": "1.5.0",
            "box_style": "",
            "layout": "IPY_MODEL_30fd7833a1194c9fb1844189e863ea2c",
            "_model_module": "@jupyter-widgets/controls",
            "children": [
              "IPY_MODEL_2a49e785bbeb4166a08922efd2920da1",
              "IPY_MODEL_c3f5a4804bb2419bbb310982e1f8d9dc",
              "IPY_MODEL_43b79ca24f0c47d79790bce083ee43c4"
            ]
          }
        },
        "30fd7833a1194c9fb1844189e863ea2c": {
          "model_module": "@jupyter-widgets/base",
          "model_name": "LayoutModel",
          "model_module_version": "1.2.0",
          "state": {
            "_view_name": "LayoutView",
            "grid_template_rows": null,
            "right": null,
            "justify_content": null,
            "_view_module": "@jupyter-widgets/base",
            "overflow": null,
            "_model_module_version": "1.2.0",
            "_view_count": null,
            "flex_flow": null,
            "width": null,
            "min_width": null,
            "border": null,
            "align_items": null,
            "bottom": null,
            "_model_module": "@jupyter-widgets/base",
            "top": null,
            "grid_column": null,
            "overflow_y": null,
            "overflow_x": null,
            "grid_auto_flow": null,
            "grid_area": null,
            "grid_template_columns": null,
            "flex": null,
            "_model_name": "LayoutModel",
            "justify_items": null,
            "grid_row": null,
            "max_height": null,
            "align_content": null,
            "visibility": null,
            "align_self": null,
            "height": null,
            "min_height": null,
            "padding": null,
            "grid_auto_rows": null,
            "grid_gap": null,
            "max_width": null,
            "order": null,
            "_view_module_version": "1.2.0",
            "grid_template_areas": null,
            "object_position": null,
            "object_fit": null,
            "grid_auto_columns": null,
            "margin": null,
            "display": null,
            "left": null
          }
        },
        "2a49e785bbeb4166a08922efd2920da1": {
          "model_module": "@jupyter-widgets/controls",
          "model_name": "HTMLModel",
          "model_module_version": "1.5.0",
          "state": {
            "_view_name": "HTMLView",
            "style": "IPY_MODEL_b9a960a3d9134e6b9e196935d76f3eed",
            "_dom_classes": [],
            "description": "",
            "_model_name": "HTMLModel",
            "placeholder": "​",
            "_view_module": "@jupyter-widgets/controls",
            "_model_module_version": "1.5.0",
            "value": "100%",
            "_view_count": null,
            "_view_module_version": "1.5.0",
            "description_tooltip": null,
            "_model_module": "@jupyter-widgets/controls",
            "layout": "IPY_MODEL_c60e1b4d870f4452a8375913c7a16f83"
          }
        },
        "c3f5a4804bb2419bbb310982e1f8d9dc": {
          "model_module": "@jupyter-widgets/controls",
          "model_name": "FloatProgressModel",
          "model_module_version": "1.5.0",
          "state": {
            "_view_name": "ProgressView",
            "style": "IPY_MODEL_a01653f4563844cf9e7ee4b848bf5db1",
            "_dom_classes": [],
            "description": "",
            "_model_name": "FloatProgressModel",
            "bar_style": "success",
            "max": 356056638,
            "_view_module": "@jupyter-widgets/controls",
            "_model_module_version": "1.5.0",
            "value": 356056638,
            "_view_count": null,
            "_view_module_version": "1.5.0",
            "orientation": "horizontal",
            "min": 0,
            "description_tooltip": null,
            "_model_module": "@jupyter-widgets/controls",
            "layout": "IPY_MODEL_0ca8f0ba59584fea9977b0d6e343538a"
          }
        },
        "43b79ca24f0c47d79790bce083ee43c4": {
          "model_module": "@jupyter-widgets/controls",
          "model_name": "HTMLModel",
          "model_module_version": "1.5.0",
          "state": {
            "_view_name": "HTMLView",
            "style": "IPY_MODEL_c72515202794409fbc8f292529a85fb4",
            "_dom_classes": [],
            "description": "",
            "_model_name": "HTMLModel",
            "placeholder": "​",
            "_view_module": "@jupyter-widgets/controls",
            "_model_module_version": "1.5.0",
            "value": " 340M/340M [00:07&lt;00:00, 59.9MB/s]",
            "_view_count": null,
            "_view_module_version": "1.5.0",
            "description_tooltip": null,
            "_model_module": "@jupyter-widgets/controls",
            "layout": "IPY_MODEL_7faf7c9a9cc2446c8d5a3ba3270ec7ad"
          }
        },
        "b9a960a3d9134e6b9e196935d76f3eed": {
          "model_module": "@jupyter-widgets/controls",
          "model_name": "DescriptionStyleModel",
          "model_module_version": "1.5.0",
          "state": {
            "_view_name": "StyleView",
            "_model_name": "DescriptionStyleModel",
            "description_width": "",
            "_view_module": "@jupyter-widgets/base",
            "_model_module_version": "1.5.0",
            "_view_count": null,
            "_view_module_version": "1.2.0",
            "_model_module": "@jupyter-widgets/controls"
          }
        },
        "c60e1b4d870f4452a8375913c7a16f83": {
          "model_module": "@jupyter-widgets/base",
          "model_name": "LayoutModel",
          "model_module_version": "1.2.0",
          "state": {
            "_view_name": "LayoutView",
            "grid_template_rows": null,
            "right": null,
            "justify_content": null,
            "_view_module": "@jupyter-widgets/base",
            "overflow": null,
            "_model_module_version": "1.2.0",
            "_view_count": null,
            "flex_flow": null,
            "width": null,
            "min_width": null,
            "border": null,
            "align_items": null,
            "bottom": null,
            "_model_module": "@jupyter-widgets/base",
            "top": null,
            "grid_column": null,
            "overflow_y": null,
            "overflow_x": null,
            "grid_auto_flow": null,
            "grid_area": null,
            "grid_template_columns": null,
            "flex": null,
            "_model_name": "LayoutModel",
            "justify_items": null,
            "grid_row": null,
            "max_height": null,
            "align_content": null,
            "visibility": null,
            "align_self": null,
            "height": null,
            "min_height": null,
            "padding": null,
            "grid_auto_rows": null,
            "grid_gap": null,
            "max_width": null,
            "order": null,
            "_view_module_version": "1.2.0",
            "grid_template_areas": null,
            "object_position": null,
            "object_fit": null,
            "grid_auto_columns": null,
            "margin": null,
            "display": null,
            "left": null
          }
        },
        "a01653f4563844cf9e7ee4b848bf5db1": {
          "model_module": "@jupyter-widgets/controls",
          "model_name": "ProgressStyleModel",
          "model_module_version": "1.5.0",
          "state": {
            "_view_name": "StyleView",
            "_model_name": "ProgressStyleModel",
            "description_width": "",
            "_view_module": "@jupyter-widgets/base",
            "_model_module_version": "1.5.0",
            "_view_count": null,
            "_view_module_version": "1.2.0",
            "bar_color": null,
            "_model_module": "@jupyter-widgets/controls"
          }
        },
        "0ca8f0ba59584fea9977b0d6e343538a": {
          "model_module": "@jupyter-widgets/base",
          "model_name": "LayoutModel",
          "model_module_version": "1.2.0",
          "state": {
            "_view_name": "LayoutView",
            "grid_template_rows": null,
            "right": null,
            "justify_content": null,
            "_view_module": "@jupyter-widgets/base",
            "overflow": null,
            "_model_module_version": "1.2.0",
            "_view_count": null,
            "flex_flow": null,
            "width": null,
            "min_width": null,
            "border": null,
            "align_items": null,
            "bottom": null,
            "_model_module": "@jupyter-widgets/base",
            "top": null,
            "grid_column": null,
            "overflow_y": null,
            "overflow_x": null,
            "grid_auto_flow": null,
            "grid_area": null,
            "grid_template_columns": null,
            "flex": null,
            "_model_name": "LayoutModel",
            "justify_items": null,
            "grid_row": null,
            "max_height": null,
            "align_content": null,
            "visibility": null,
            "align_self": null,
            "height": null,
            "min_height": null,
            "padding": null,
            "grid_auto_rows": null,
            "grid_gap": null,
            "max_width": null,
            "order": null,
            "_view_module_version": "1.2.0",
            "grid_template_areas": null,
            "object_position": null,
            "object_fit": null,
            "grid_auto_columns": null,
            "margin": null,
            "display": null,
            "left": null
          }
        },
        "c72515202794409fbc8f292529a85fb4": {
          "model_module": "@jupyter-widgets/controls",
          "model_name": "DescriptionStyleModel",
          "model_module_version": "1.5.0",
          "state": {
            "_view_name": "StyleView",
            "_model_name": "DescriptionStyleModel",
            "description_width": "",
            "_view_module": "@jupyter-widgets/base",
            "_model_module_version": "1.5.0",
            "_view_count": null,
            "_view_module_version": "1.2.0",
            "_model_module": "@jupyter-widgets/controls"
          }
        },
        "7faf7c9a9cc2446c8d5a3ba3270ec7ad": {
          "model_module": "@jupyter-widgets/base",
          "model_name": "LayoutModel",
          "model_module_version": "1.2.0",
          "state": {
            "_view_name": "LayoutView",
            "grid_template_rows": null,
            "right": null,
            "justify_content": null,
            "_view_module": "@jupyter-widgets/base",
            "overflow": null,
            "_model_module_version": "1.2.0",
            "_view_count": null,
            "flex_flow": null,
            "width": null,
            "min_width": null,
            "border": null,
            "align_items": null,
            "bottom": null,
            "_model_module": "@jupyter-widgets/base",
            "top": null,
            "grid_column": null,
            "overflow_y": null,
            "overflow_x": null,
            "grid_auto_flow": null,
            "grid_area": null,
            "grid_template_columns": null,
            "flex": null,
            "_model_name": "LayoutModel",
            "justify_items": null,
            "grid_row": null,
            "max_height": null,
            "align_content": null,
            "visibility": null,
            "align_self": null,
            "height": null,
            "min_height": null,
            "padding": null,
            "grid_auto_rows": null,
            "grid_gap": null,
            "max_width": null,
            "order": null,
            "_view_module_version": "1.2.0",
            "grid_template_areas": null,
            "object_position": null,
            "object_fit": null,
            "grid_auto_columns": null,
            "margin": null,
            "display": null,
            "left": null
          }
        },
        "92acce125cac402abd895ac4e4e91a0e": {
          "model_module": "@jupyter-widgets/controls",
          "model_name": "HBoxModel",
          "model_module_version": "1.5.0",
          "state": {
            "_view_name": "HBoxView",
            "_dom_classes": [],
            "_model_name": "HBoxModel",
            "_view_module": "@jupyter-widgets/controls",
            "_model_module_version": "1.5.0",
            "_view_count": null,
            "_view_module_version": "1.5.0",
            "box_style": "",
            "layout": "IPY_MODEL_9551bfc415954d9ab0c5cee6b6e74e52",
            "_model_module": "@jupyter-widgets/controls",
            "children": [
              "IPY_MODEL_dd975fa321634fce992630f34bbae7c7",
              "IPY_MODEL_ad49d130d966497f915027d40926b2ba",
              "IPY_MODEL_f6bb9c3957a44d40af6b571185e2993c"
            ]
          }
        },
        "9551bfc415954d9ab0c5cee6b6e74e52": {
          "model_module": "@jupyter-widgets/base",
          "model_name": "LayoutModel",
          "model_module_version": "1.2.0",
          "state": {
            "_view_name": "LayoutView",
            "grid_template_rows": null,
            "right": null,
            "justify_content": null,
            "_view_module": "@jupyter-widgets/base",
            "overflow": null,
            "_model_module_version": "1.2.0",
            "_view_count": null,
            "flex_flow": null,
            "width": null,
            "min_width": null,
            "border": null,
            "align_items": null,
            "bottom": null,
            "_model_module": "@jupyter-widgets/base",
            "top": null,
            "grid_column": null,
            "overflow_y": null,
            "overflow_x": null,
            "grid_auto_flow": null,
            "grid_area": null,
            "grid_template_columns": null,
            "flex": null,
            "_model_name": "LayoutModel",
            "justify_items": null,
            "grid_row": null,
            "max_height": null,
            "align_content": null,
            "visibility": null,
            "align_self": null,
            "height": null,
            "min_height": null,
            "padding": null,
            "grid_auto_rows": null,
            "grid_gap": null,
            "max_width": null,
            "order": null,
            "_view_module_version": "1.2.0",
            "grid_template_areas": null,
            "object_position": null,
            "object_fit": null,
            "grid_auto_columns": null,
            "margin": null,
            "display": null,
            "left": null
          }
        },
        "dd975fa321634fce992630f34bbae7c7": {
          "model_module": "@jupyter-widgets/controls",
          "model_name": "HTMLModel",
          "model_module_version": "1.5.0",
          "state": {
            "_view_name": "HTMLView",
            "style": "IPY_MODEL_a6c88b90192a4f4993a47fa409eab677",
            "_dom_classes": [],
            "description": "",
            "_model_name": "HTMLModel",
            "placeholder": "​",
            "_view_module": "@jupyter-widgets/controls",
            "_model_module_version": "1.5.0",
            "value": "100%",
            "_view_count": null,
            "_view_module_version": "1.5.0",
            "description_tooltip": null,
            "_model_module": "@jupyter-widgets/controls",
            "layout": "IPY_MODEL_1881ce10849e45aaba29daed67ab3c28"
          }
        },
        "ad49d130d966497f915027d40926b2ba": {
          "model_module": "@jupyter-widgets/controls",
          "model_name": "FloatProgressModel",
          "model_module_version": "1.5.0",
          "state": {
            "_view_name": "ProgressView",
            "style": "IPY_MODEL_0fe62f62957e4c4b9e96d5bd35577b18",
            "_dom_classes": [],
            "description": "",
            "_model_name": "FloatProgressModel",
            "bar_style": "success",
            "max": 422509849,
            "_view_module": "@jupyter-widgets/controls",
            "_model_module_version": "1.5.0",
            "value": 422509849,
            "_view_count": null,
            "_view_module_version": "1.5.0",
            "orientation": "horizontal",
            "min": 0,
            "description_tooltip": null,
            "_model_module": "@jupyter-widgets/controls",
            "layout": "IPY_MODEL_ad0dd1d12f014e7281928fe0a23bc812"
          }
        },
        "f6bb9c3957a44d40af6b571185e2993c": {
          "model_module": "@jupyter-widgets/controls",
          "model_name": "HTMLModel",
          "model_module_version": "1.5.0",
          "state": {
            "_view_name": "HTMLView",
            "style": "IPY_MODEL_a1ffff110aca43d489f081eeb89b5b8e",
            "_dom_classes": [],
            "description": "",
            "_model_name": "HTMLModel",
            "placeholder": "​",
            "_view_module": "@jupyter-widgets/controls",
            "_model_module_version": "1.5.0",
            "value": " 403M/403M [00:03&lt;00:00, 108MB/s]",
            "_view_count": null,
            "_view_module_version": "1.5.0",
            "description_tooltip": null,
            "_model_module": "@jupyter-widgets/controls",
            "layout": "IPY_MODEL_7a2dd6a48d914f34ad7eaf967272db72"
          }
        },
        "a6c88b90192a4f4993a47fa409eab677": {
          "model_module": "@jupyter-widgets/controls",
          "model_name": "DescriptionStyleModel",
          "model_module_version": "1.5.0",
          "state": {
            "_view_name": "StyleView",
            "_model_name": "DescriptionStyleModel",
            "description_width": "",
            "_view_module": "@jupyter-widgets/base",
            "_model_module_version": "1.5.0",
            "_view_count": null,
            "_view_module_version": "1.2.0",
            "_model_module": "@jupyter-widgets/controls"
          }
        },
        "1881ce10849e45aaba29daed67ab3c28": {
          "model_module": "@jupyter-widgets/base",
          "model_name": "LayoutModel",
          "model_module_version": "1.2.0",
          "state": {
            "_view_name": "LayoutView",
            "grid_template_rows": null,
            "right": null,
            "justify_content": null,
            "_view_module": "@jupyter-widgets/base",
            "overflow": null,
            "_model_module_version": "1.2.0",
            "_view_count": null,
            "flex_flow": null,
            "width": null,
            "min_width": null,
            "border": null,
            "align_items": null,
            "bottom": null,
            "_model_module": "@jupyter-widgets/base",
            "top": null,
            "grid_column": null,
            "overflow_y": null,
            "overflow_x": null,
            "grid_auto_flow": null,
            "grid_area": null,
            "grid_template_columns": null,
            "flex": null,
            "_model_name": "LayoutModel",
            "justify_items": null,
            "grid_row": null,
            "max_height": null,
            "align_content": null,
            "visibility": null,
            "align_self": null,
            "height": null,
            "min_height": null,
            "padding": null,
            "grid_auto_rows": null,
            "grid_gap": null,
            "max_width": null,
            "order": null,
            "_view_module_version": "1.2.0",
            "grid_template_areas": null,
            "object_position": null,
            "object_fit": null,
            "grid_auto_columns": null,
            "margin": null,
            "display": null,
            "left": null
          }
        },
        "0fe62f62957e4c4b9e96d5bd35577b18": {
          "model_module": "@jupyter-widgets/controls",
          "model_name": "ProgressStyleModel",
          "model_module_version": "1.5.0",
          "state": {
            "_view_name": "StyleView",
            "_model_name": "ProgressStyleModel",
            "description_width": "",
            "_view_module": "@jupyter-widgets/base",
            "_model_module_version": "1.5.0",
            "_view_count": null,
            "_view_module_version": "1.2.0",
            "bar_color": null,
            "_model_module": "@jupyter-widgets/controls"
          }
        },
        "ad0dd1d12f014e7281928fe0a23bc812": {
          "model_module": "@jupyter-widgets/base",
          "model_name": "LayoutModel",
          "model_module_version": "1.2.0",
          "state": {
            "_view_name": "LayoutView",
            "grid_template_rows": null,
            "right": null,
            "justify_content": null,
            "_view_module": "@jupyter-widgets/base",
            "overflow": null,
            "_model_module_version": "1.2.0",
            "_view_count": null,
            "flex_flow": null,
            "width": null,
            "min_width": null,
            "border": null,
            "align_items": null,
            "bottom": null,
            "_model_module": "@jupyter-widgets/base",
            "top": null,
            "grid_column": null,
            "overflow_y": null,
            "overflow_x": null,
            "grid_auto_flow": null,
            "grid_area": null,
            "grid_template_columns": null,
            "flex": null,
            "_model_name": "LayoutModel",
            "justify_items": null,
            "grid_row": null,
            "max_height": null,
            "align_content": null,
            "visibility": null,
            "align_self": null,
            "height": null,
            "min_height": null,
            "padding": null,
            "grid_auto_rows": null,
            "grid_gap": null,
            "max_width": null,
            "order": null,
            "_view_module_version": "1.2.0",
            "grid_template_areas": null,
            "object_position": null,
            "object_fit": null,
            "grid_auto_columns": null,
            "margin": null,
            "display": null,
            "left": null
          }
        },
        "a1ffff110aca43d489f081eeb89b5b8e": {
          "model_module": "@jupyter-widgets/controls",
          "model_name": "DescriptionStyleModel",
          "model_module_version": "1.5.0",
          "state": {
            "_view_name": "StyleView",
            "_model_name": "DescriptionStyleModel",
            "description_width": "",
            "_view_module": "@jupyter-widgets/base",
            "_model_module_version": "1.5.0",
            "_view_count": null,
            "_view_module_version": "1.2.0",
            "_model_module": "@jupyter-widgets/controls"
          }
        },
        "7a2dd6a48d914f34ad7eaf967272db72": {
          "model_module": "@jupyter-widgets/base",
          "model_name": "LayoutModel",
          "model_module_version": "1.2.0",
          "state": {
            "_view_name": "LayoutView",
            "grid_template_rows": null,
            "right": null,
            "justify_content": null,
            "_view_module": "@jupyter-widgets/base",
            "overflow": null,
            "_model_module_version": "1.2.0",
            "_view_count": null,
            "flex_flow": null,
            "width": null,
            "min_width": null,
            "border": null,
            "align_items": null,
            "bottom": null,
            "_model_module": "@jupyter-widgets/base",
            "top": null,
            "grid_column": null,
            "overflow_y": null,
            "overflow_x": null,
            "grid_auto_flow": null,
            "grid_area": null,
            "grid_template_columns": null,
            "flex": null,
            "_model_name": "LayoutModel",
            "justify_items": null,
            "grid_row": null,
            "max_height": null,
            "align_content": null,
            "visibility": null,
            "align_self": null,
            "height": null,
            "min_height": null,
            "padding": null,
            "grid_auto_rows": null,
            "grid_gap": null,
            "max_width": null,
            "order": null,
            "_view_module_version": "1.2.0",
            "grid_template_areas": null,
            "object_position": null,
            "object_fit": null,
            "grid_auto_columns": null,
            "margin": null,
            "display": null,
            "left": null
          }
        }
      }
    }
  },
  "cells": [
    {
      "cell_type": "markdown",
      "metadata": {
        "id": "view-in-github",
        "colab_type": "text"
      },
      "source": [
        "<a href=\"https://colab.research.google.com/github/Helyousfi/Depth-estimation-and-detection/blob/main/depthExtraction.ipynb\" target=\"_parent\"><img src=\"https://colab.research.google.com/assets/colab-badge.svg\" alt=\"Open In Colab\"/></a>"
      ]
    },
    {
      "cell_type": "markdown",
      "metadata": {
        "id": "w9kQ9O7wNjwY"
      },
      "source": [
        "Based on https://pytorch.org/hub/intelisl_midas_v2/ \n",
        "and https://colab.research.google.com/github/pytorch/pytorch.github.io/blob/master/assets/hub/intelisl_midas_v2.ipynb\n",
        "\n",
        "### Reference\n",
        "[Towards Robust Monocular Depth Estimation: Mixing Datasets for Zero-shot Cross-dataset Transfer](https://arxiv.org/abs/1907.01341)\n",
        "\n",
        "Their code is on MIT license https://github.com/intel-isl/MiDaS/blob/master/LICENSE . Please cite paper if you use their model:"
      ]
    },
    {
      "cell_type": "code",
      "metadata": {
        "attributes": {
          "classes": [
            "bibtex"
          ],
          "id": ""
        },
        "id": "AY10PtMwNjwY",
        "colab": {
          "base_uri": "https://localhost:8080/",
          "height": 53
        },
        "outputId": "f1cbb8f6-0cbb-4325-98db-25d84a2be000"
      },
      "source": [
        "'''@article{Ranftl2020,\n",
        "\tauthor    = {Ren\\'{e} Ranftl and Katrin Lasinger and David Hafner and Konrad Schindler and Vladlen Koltun},\n",
        "\ttitle     = {Towards Robust Monocular Depth Estimation: Mixing Datasets for Zero-shot Cross-dataset Transfer},\n",
        "\tjournal   = {IEEE Transactions on Pattern Analysis and Machine Intelligence (TPAMI)},\n",
        "\tyear      = {2020},\n",
        "}'''"
      ],
      "execution_count": 1,
      "outputs": [
        {
          "output_type": "execute_result",
          "data": {
            "application/vnd.google.colaboratory.intrinsic+json": {
              "type": "string"
            },
            "text/plain": [
              "\"@article{Ranftl2020,\\n\\tauthor    = {Ren'{e} Ranftl and Katrin Lasinger and David Hafner and Konrad Schindler and Vladlen Koltun},\\n\\ttitle     = {Towards Robust Monocular Depth Estimation: Mixing Datasets for Zero-shot Cross-dataset Transfer},\\n\\tjournal   = {IEEE Transactions on Pattern Analysis and Machine Intelligence (TPAMI)},\\n\\tyear      = {2020},\\n}\""
            ]
          },
          "metadata": {},
          "execution_count": 1
        }
      ]
    },
    {
      "cell_type": "code",
      "metadata": {
        "id": "pzpbfnmoNjwM",
        "colab": {
          "base_uri": "https://localhost:8080/",
          "height": 411,
          "referenced_widgets": [
            "9a4ee31a09e24e5bb3a0976be0981fb7",
            "30fd7833a1194c9fb1844189e863ea2c",
            "2a49e785bbeb4166a08922efd2920da1",
            "c3f5a4804bb2419bbb310982e1f8d9dc",
            "43b79ca24f0c47d79790bce083ee43c4",
            "b9a960a3d9134e6b9e196935d76f3eed",
            "c60e1b4d870f4452a8375913c7a16f83",
            "a01653f4563844cf9e7ee4b848bf5db1",
            "0ca8f0ba59584fea9977b0d6e343538a",
            "c72515202794409fbc8f292529a85fb4",
            "7faf7c9a9cc2446c8d5a3ba3270ec7ad",
            "92acce125cac402abd895ac4e4e91a0e",
            "9551bfc415954d9ab0c5cee6b6e74e52",
            "dd975fa321634fce992630f34bbae7c7",
            "ad49d130d966497f915027d40926b2ba",
            "f6bb9c3957a44d40af6b571185e2993c",
            "a6c88b90192a4f4993a47fa409eab677",
            "1881ce10849e45aaba29daed67ab3c28",
            "0fe62f62957e4c4b9e96d5bd35577b18",
            "ad0dd1d12f014e7281928fe0a23bc812",
            "a1ffff110aca43d489f081eeb89b5b8e",
            "7a2dd6a48d914f34ad7eaf967272db72"
          ]
        },
        "outputId": "420c03ac-0ffc-42ac-ecf5-9166efc9fd08"
      },
      "source": [
        "#Set runtime to GPU\n",
        "\n",
        "#importing libraries\n",
        "!pip install timm\n",
        "import tifffile as ti\n",
        "import random\n",
        "import numpy as np\n",
        "import torch\n",
        "#load midas model from torch hub\n",
        "midas = torch.hub.load(\"intel-isl/MiDaS\", \"MiDaS\")\n",
        "midas.eval()\n",
        "import cv2\n",
        "import urllib.request\n",
        "import matplotlib.pyplot as plt\n",
        "from google.colab.patches import cv2_imshow\n",
        "import numpy as np\n",
        "import os\n",
        "\n",
        "use_large_model = True\n",
        "\n",
        "if use_large_model:\n",
        "    midas = torch.hub.load(\"intel-isl/MiDaS\", \"MiDaS\")\n",
        "else:\n",
        "    midas = torch.hub.load(\"intel-isl/MiDaS\", \"MiDaS_small\")\n",
        "  \n",
        "device = torch.device(\"cuda\") if torch.cuda.is_available() else torch.device(\"cpu\")\n",
        "midas.to(device)\n",
        "midas.eval()\n",
        "\n",
        "midas_transforms = torch.hub.load(\"intel-isl/MiDaS\", \"transforms\")\n",
        "\n",
        "if use_large_model:\n",
        "    transform = midas_transforms.default_transform\n",
        "else:\n",
        "    transform = midas_transforms.small_transform"
      ],
      "execution_count": 2,
      "outputs": [
        {
          "output_type": "stream",
          "name": "stdout",
          "text": [
            "Collecting timm\n",
            "  Downloading timm-0.5.4-py3-none-any.whl (431 kB)\n",
            "\u001b[?25l\r\u001b[K     |▊                               | 10 kB 19.0 MB/s eta 0:00:01\r\u001b[K     |█▌                              | 20 kB 25.8 MB/s eta 0:00:01\r\u001b[K     |██▎                             | 30 kB 30.8 MB/s eta 0:00:01\r\u001b[K     |███                             | 40 kB 22.8 MB/s eta 0:00:01\r\u001b[K     |███▉                            | 51 kB 18.3 MB/s eta 0:00:01\r\u001b[K     |████▋                           | 61 kB 20.7 MB/s eta 0:00:01\r\u001b[K     |█████▎                          | 71 kB 22.2 MB/s eta 0:00:01\r\u001b[K     |██████                          | 81 kB 23.7 MB/s eta 0:00:01\r\u001b[K     |██████▉                         | 92 kB 25.6 MB/s eta 0:00:01\r\u001b[K     |███████▋                        | 102 kB 23.7 MB/s eta 0:00:01\r\u001b[K     |████████▍                       | 112 kB 23.7 MB/s eta 0:00:01\r\u001b[K     |█████████▏                      | 122 kB 23.7 MB/s eta 0:00:01\r\u001b[K     |█████████▉                      | 133 kB 23.7 MB/s eta 0:00:01\r\u001b[K     |██████████▋                     | 143 kB 23.7 MB/s eta 0:00:01\r\u001b[K     |███████████▍                    | 153 kB 23.7 MB/s eta 0:00:01\r\u001b[K     |████████████▏                   | 163 kB 23.7 MB/s eta 0:00:01\r\u001b[K     |█████████████                   | 174 kB 23.7 MB/s eta 0:00:01\r\u001b[K     |█████████████▊                  | 184 kB 23.7 MB/s eta 0:00:01\r\u001b[K     |██████████████▍                 | 194 kB 23.7 MB/s eta 0:00:01\r\u001b[K     |███████████████▏                | 204 kB 23.7 MB/s eta 0:00:01\r\u001b[K     |████████████████                | 215 kB 23.7 MB/s eta 0:00:01\r\u001b[K     |████████████████▊               | 225 kB 23.7 MB/s eta 0:00:01\r\u001b[K     |█████████████████▌              | 235 kB 23.7 MB/s eta 0:00:01\r\u001b[K     |██████████████████▎             | 245 kB 23.7 MB/s eta 0:00:01\r\u001b[K     |███████████████████             | 256 kB 23.7 MB/s eta 0:00:01\r\u001b[K     |███████████████████▊            | 266 kB 23.7 MB/s eta 0:00:01\r\u001b[K     |████████████████████▌           | 276 kB 23.7 MB/s eta 0:00:01\r\u001b[K     |█████████████████████▎          | 286 kB 23.7 MB/s eta 0:00:01\r\u001b[K     |██████████████████████          | 296 kB 23.7 MB/s eta 0:00:01\r\u001b[K     |██████████████████████▉         | 307 kB 23.7 MB/s eta 0:00:01\r\u001b[K     |███████████████████████▌        | 317 kB 23.7 MB/s eta 0:00:01\r\u001b[K     |████████████████████████▎       | 327 kB 23.7 MB/s eta 0:00:01\r\u001b[K     |█████████████████████████       | 337 kB 23.7 MB/s eta 0:00:01\r\u001b[K     |█████████████████████████▉      | 348 kB 23.7 MB/s eta 0:00:01\r\u001b[K     |██████████████████████████▋     | 358 kB 23.7 MB/s eta 0:00:01\r\u001b[K     |███████████████████████████▍    | 368 kB 23.7 MB/s eta 0:00:01\r\u001b[K     |████████████████████████████    | 378 kB 23.7 MB/s eta 0:00:01\r\u001b[K     |████████████████████████████▉   | 389 kB 23.7 MB/s eta 0:00:01\r\u001b[K     |█████████████████████████████▋  | 399 kB 23.7 MB/s eta 0:00:01\r\u001b[K     |██████████████████████████████▍ | 409 kB 23.7 MB/s eta 0:00:01\r\u001b[K     |███████████████████████████████▏| 419 kB 23.7 MB/s eta 0:00:01\r\u001b[K     |████████████████████████████████| 430 kB 23.7 MB/s eta 0:00:01\r\u001b[K     |████████████████████████████████| 431 kB 23.7 MB/s \n",
            "\u001b[?25hRequirement already satisfied: torch>=1.4 in /usr/local/lib/python3.7/dist-packages (from timm) (1.10.0+cu111)\n",
            "Requirement already satisfied: torchvision in /usr/local/lib/python3.7/dist-packages (from timm) (0.11.1+cu111)\n",
            "Requirement already satisfied: typing-extensions in /usr/local/lib/python3.7/dist-packages (from torch>=1.4->timm) (3.10.0.2)\n",
            "Requirement already satisfied: pillow!=8.3.0,>=5.3.0 in /usr/local/lib/python3.7/dist-packages (from torchvision->timm) (7.1.2)\n",
            "Requirement already satisfied: numpy in /usr/local/lib/python3.7/dist-packages (from torchvision->timm) (1.21.5)\n",
            "Installing collected packages: timm\n",
            "Successfully installed timm-0.5.4\n"
          ]
        },
        {
          "output_type": "stream",
          "name": "stderr",
          "text": [
            "Downloading: \"https://github.com/intel-isl/MiDaS/archive/master.zip\" to /root/.cache/torch/hub/master.zip\n"
          ]
        },
        {
          "output_type": "stream",
          "name": "stdout",
          "text": [
            "Loading weights:  None\n"
          ]
        },
        {
          "output_type": "stream",
          "name": "stderr",
          "text": [
            "Downloading: \"https://github.com/facebookresearch/WSL-Images/archive/main.zip\" to /root/.cache/torch/hub/main.zip\n",
            "Downloading: \"https://download.pytorch.org/models/ig_resnext101_32x8-c38310e5.pth\" to /root/.cache/torch/hub/checkpoints/ig_resnext101_32x8-c38310e5.pth\n"
          ]
        },
        {
          "output_type": "display_data",
          "data": {
            "application/vnd.jupyter.widget-view+json": {
              "model_id": "9a4ee31a09e24e5bb3a0976be0981fb7",
              "version_minor": 0,
              "version_major": 2
            },
            "text/plain": [
              "  0%|          | 0.00/340M [00:00<?, ?B/s]"
            ]
          },
          "metadata": {}
        },
        {
          "output_type": "stream",
          "name": "stderr",
          "text": [
            "Downloading: \"https://github.com/intel-isl/MiDaS/releases/download/v2_1/model-f6b98070.pt\" to /root/.cache/torch/hub/checkpoints/model-f6b98070.pt\n"
          ]
        },
        {
          "output_type": "display_data",
          "data": {
            "application/vnd.jupyter.widget-view+json": {
              "model_id": "92acce125cac402abd895ac4e4e91a0e",
              "version_minor": 0,
              "version_major": 2
            },
            "text/plain": [
              "  0%|          | 0.00/403M [00:00<?, ?B/s]"
            ]
          },
          "metadata": {}
        },
        {
          "output_type": "stream",
          "name": "stderr",
          "text": [
            "Using cache found in /root/.cache/torch/hub/intel-isl_MiDaS_master\n"
          ]
        },
        {
          "output_type": "stream",
          "name": "stdout",
          "text": [
            "Loading weights:  None\n"
          ]
        },
        {
          "output_type": "stream",
          "name": "stderr",
          "text": [
            "Using cache found in /root/.cache/torch/hub/facebookresearch_WSL-Images_main\n",
            "Using cache found in /root/.cache/torch/hub/intel-isl_MiDaS_master\n"
          ]
        }
      ]
    },
    {
      "cell_type": "markdown",
      "metadata": {
        "id": "-hUuPsz2NjwU"
      },
      "source": [
        "Load images from zipped **in.zip** file, run neural network and output to **out8tif.zip** (8 bit, 3 channels), **out32tif3d.zip** (32 bit, xyz channels) and **out32tif1d.zip** (32 bit, zzz channels)"
      ]
    },
    {
      "cell_type": "code",
      "metadata": {
        "id": "UytMSFJqZQuL",
        "colab": {
          "base_uri": "https://localhost:8080/"
        },
        "outputId": "334cd746-eef6-4f0d-9e1f-b1ed278a16ff"
      },
      "source": [
        "# unzip input folder\n",
        "!unzip folder.zip "
      ],
      "execution_count": 3,
      "outputs": [
        {
          "output_type": "stream",
          "name": "stdout",
          "text": [
            "unzip:  cannot find or open folder.zip, folder.zip.zip or folder.zip.ZIP.\n"
          ]
        }
      ]
    },
    {
      "cell_type": "code",
      "metadata": {
        "id": "ohlW6OSRYm_T"
      },
      "source": [
        "# look for files in the input folder\n",
        "from os import walk\n",
        "_, _, filenames = next(walk('in2'))\n",
        "filenames = sorted(filenames)\n",
        "print(filenames)\n",
        "\n",
        "# create output folders for 8-bit simple output and 32-bit fully 3d vector output\n",
        "try:\n",
        "  os.makedirs('out8tif')\n",
        "except:\n",
        "  print('Folder not created')\n",
        "try:\n",
        "  os.makedirs('out32tif3d')\n",
        "except:\n",
        "  print('Folder not created')\n",
        "\n",
        "# for each filename do the depth extraction and save it\n",
        "for filename in filenames:\n",
        "  # read file\n",
        "  img = cv2.imread('in2/'+filename)\n",
        "  # convert color space from BGR to RGB\n",
        "  img = cv2.cvtColor(img, cv2.COLOR_BGR2RGB)\n",
        "  # run midas model\n",
        "  input_batch = transform(img).to(device)\n",
        "  with torch.no_grad():\n",
        "    prediction = midas(input_batch)\n",
        "\n",
        "    prediction = torch.nn.functional.interpolate(\n",
        "        prediction.unsqueeze(1),\n",
        "        size=img.shape[:2],\n",
        "        mode=\"bicubic\",\n",
        "        align_corners=False,\n",
        "    ).squeeze()\n",
        "  # convert output to numpy array\n",
        "  output = prediction.cpu().numpy()\n",
        "\n",
        "  # rescale output for simple depth extraction\n",
        "  min = np.min(output)\n",
        "  max = np.max(output)\n",
        "  output2 = 255.99*(output-min)/(max-min)\n",
        "  output2 = output2.astype(int)\n",
        "  output2 = np.stack((output2,)*3, axis=-1)\n",
        "  # save simple output together with blurred versions\n",
        "  cv2.imwrite('out8tif/'+filename+'.tif', output2)\n",
        "  cv2.imwrite('out8tif/blur5'+filename+'.tif', cv2.blur(output2,(5,5)))\n",
        "  cv2.imwrite('out8tif/blur15'+filename+'.tif', cv2.blur(output2,(15,15)))\n",
        "  cv2.imwrite('out8tif/blur35'+filename+'.tif', cv2.blur(output2,(35,35)))\n",
        "\n",
        "  ## 32 bit version, mostly vector output\n",
        "  # Read shape of the depth map\n",
        "  (wy, wx) = output.shape\n",
        "\n",
        "  #distance from the camera to the image frame in arbitrary units\n",
        "  #\"hat\" suffix refers to arbitrary units \n",
        "  d1hat = wy# this is how I have choosen, but it can be changed\n",
        "  wxhat = wx\n",
        "  wyhat = wy\n",
        "\n",
        "  # rmin and rmax are two scaling factors\n",
        "  # rmin roughly means distance of the closest point visible in the image to the center of the camera\n",
        "  # rmax roughly means distance of the furthest point visible in the image to the center of the camera\n",
        "  # You can play with the values for different results.\n",
        "  # The larger is the difference between rmin and rmax, the more detailed mesh and number of bits are needed.\n",
        "  # Especially transformation from macro photography to buildings etc. may need rmin and rmax changes.\n",
        "  # rmin should rather be larger than distance from the camera to the image point.\n",
        "  rmin = 1*np.sqrt(d1hat**2+(np.max([wyhat,wxhat]))**2) #or maybe: 2*d1hat or something else :)\n",
        "  rmax = 100*rmin # or something else\n",
        "\n",
        "  # Distance from the camera. \"star\" means inverse units and rstar = a/r + b, \n",
        "  # where r is a real distance in some units and a and b are some constants that we are trying to retrieve based on rmin and rmax.\n",
        "  rstar = output\n",
        "\n",
        "  rstarmin = np.max(rstar) # max deliberately, because far points have low rstar\n",
        "  rstarmax = np.min(rstar) # min deliberately, because close points have high rstar\n",
        "\n",
        "  # Extraction of distance based on distance inverse and assumed parameters.\n",
        "  r = rmin*(rstar/(rstarmin-rstarmax) - (rstarmax/(rstarmin-rstarmax)-(rmin/rmax)*rstarmin/(rstarmin-rstarmax)))**(-1)\n",
        "\n",
        "  # Recalculation of x,y coordinates to pixel coordinates with the center in the image plane instead of top left corner.\n",
        "  xtilde = np.fromfunction(lambda i, j: j+0.5-wx/2, (wy,wx))\n",
        "  ytilde = np.fromfunction(lambda i, j: -(i+0.5-wy/2), (wy,wx))\n",
        "\n",
        "  # Distance of the point on the image plane from the camera.\n",
        "  r1 = np.sqrt(d1hat**2+xtilde**2+ytilde**2)\n",
        "\n",
        "  # Distance of the point from the image plane to the final/real position.\n",
        "  r2 = r-r1\n",
        "\n",
        "  # Transformations of the points from image plane to their final positions.\n",
        "  dx = (xtilde*r2/r1).astype(np.float32)\n",
        "  dy = (ytilde*r2/r1).astype(np.float32)\n",
        "  dz = (-d1hat*r2/r1).astype(np.float32)\n",
        "\n",
        "  # Max and min displacement ofor x,y and z.\n",
        "  allmax = np.abs(np.max(np.max([dx,dy,dz])))\n",
        "  allmin = np.abs(np.min(np.min([dx,dy,dz])))\n",
        "\n",
        "  # Max absolute displacement.\n",
        "  totmax = np.max([allmin,allmax])\n",
        "\n",
        "  # Recalculation to float 32 bit. I have assumed that 0.5 is no displacement, \n",
        "  # but it does not work as well as for 8 bit png. I do not know why, but from \n",
        "  # displacement operator point of view you just have to change midlevel.\n",
        "  dxfile = (dx/totmax/2+0.5).astype(np.float32)\n",
        "  dyfile = (dy/totmax/2+0.5).astype(np.float32)\n",
        "  dzfile = (dz/totmax/2+0.5).astype(np.float32)\n",
        "\n",
        "  # Prepare data with 3d displacement.\n",
        "  output3d = np.dstack((dxfile,dyfile,dzfile))\n",
        "  output3d = output3d.astype(np.float32)\n",
        "  # Save file with 3d displacement\n",
        "  ti.imsave('out32tif3d/'+filename+'3d.tif', output3d)\n",
        "\n",
        "# Zip the outcome folders.\n",
        "!zip out8tif.zip -r out8tif\n",
        "#!zip out32tif1d.zip -r out32tif1d\n",
        "!zip out32tif3d.zip -r out32tif3d\n"
      ],
      "execution_count": 4,
      "outputs": []
    }
  ]
}